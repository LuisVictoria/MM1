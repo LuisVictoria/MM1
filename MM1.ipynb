{
 "cells": [
  {
   "cell_type": "code",
   "execution_count": 1,
   "metadata": {},
   "outputs": [],
   "source": [
    "import numpy as np\n",
    "\n",
    "def factorial(n):\n",
    "    if(n<=0):\n",
    "        return \"error\"\n",
    "    elif(n==0 or n==1):\n",
    "        return 1\n",
    "    else:\n",
    "        return n*factorial(n-1)\n",
    "        \n",
    "def coefk(n,k):\n",
    "    numerador = ((-1)**k)*factorial(2*(n-k))\n",
    "    denominador = (2**n)*factorial(k)*factorial(n-k)*factorial(n-2*k)\n",
    "    return (numerador,denominador)\n",
    "    \n",
    "def poli(n):\n",
    "    s = n//2\n",
    "    coeficientes = [0 for n in range(n+1)]\n",
    "    for k in range(0,s+1):\n",
    "        coeficientes[k]=coefk(n,k)\n",
    "    print(coeficientes)\n"
   ]
  },
  {
   "cell_type": "code",
   "execution_count": null,
   "metadata": {},
   "outputs": [],
   "source": [
    "poli(10)"
   ]
  },
  {
   "cell_type": "code",
   "execution_count": null,
   "metadata": {},
   "outputs": [],
   "source": []
  },
  {
   "cell_type": "code",
   "execution_count": null,
   "metadata": {},
   "outputs": [],
   "source": []
  }
 ],
 "metadata": {
  "kernelspec": {
   "display_name": "Python 3 (Ubuntu Linux)",
   "language": "python",
   "name": "python3"
  },
  "language_info": {
   "name": ""
  }
 },
 "nbformat": 4,
 "nbformat_minor": 2
}
